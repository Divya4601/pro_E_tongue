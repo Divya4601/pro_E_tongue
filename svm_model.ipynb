{
 "cells": [
  {
   "cell_type": "code",
   "execution_count": 1,
   "id": "1f557330",
   "metadata": {},
   "outputs": [
    {
     "name": "stdout",
     "output_type": "stream",
     "text": [
      "AI model has been trained and saved as 'svm_model.pkl'\n",
      "\n",
      "--- Simulating a new sample ---\n",
      "Sample data: pH=8.62, Gas=344.23, Conductivity=2585.02\n",
      "AI Prediction: adulterated\n",
      "Expected Result: Adulterated\n"
     ]
    }
   ],
   "source": [
    "import pandas as pd\n",
    "from sklearn.svm import SVC\n",
    "import pickle\n",
    "import random\n",
    "\n",
    "# --- 1. Load the simulated neem dataset ---\n",
    "data = {\n",
    "    'pH': [7.1, 6.9, 7.0, 7.2, 6.8, 7.0, 7.1, 8.5, 8.8, 8.7, 8.6, 8.9, 8.5, 8.8, 8.4],\n",
    "    'gas_reading': [185, 195, 180, 190, 192, 188, 184, 350, 365, 340, 355, 370, 358, 362, 345],\n",
    "    'conductivity': [1200, 1250, 1180, 1220, 1260, 1210, 1240, 2500, 2600, 2450, 2550, 2700, 2520, 2650, 2480],\n",
    "    'label': ['authentic', 'authentic', 'authentic', 'authentic', 'authentic', 'authentic', 'authentic',\n",
    "              'adulterated', 'adulterated', 'adulterated', 'adulterated', 'adulterated', 'adulterated', 'adulterated', 'adulterated']\n",
    "}\n",
    "df = pd.DataFrame(data)\n",
    "\n",
    "# --- 2. Train the SVM Model ---\n",
    "# Prepare the data for the model\n",
    "X = df[['pH', 'gas_reading', 'conductivity']]\n",
    "y = df['label']\n",
    "\n",
    "# Create and train the SVM model\n",
    "model = SVC(kernel='linear')\n",
    "model.fit(X, y)\n",
    "\n",
    "# --- 3. Save the trained model to a file ---\n",
    "with open('svm_model.pkl', 'wb') as f:\n",
    "    pickle.dump(model, f)\n",
    "\n",
    "print(\"AI model has been trained and saved as 'svm_model.pkl'\")\n",
    "\n",
    "# --- 4. Function to simulate real-time data and get a prediction ---\n",
    "def get_prediction():\n",
    "    # Simulate a new, unknown sample\n",
    "    if random.choice([True, False]):\n",
    "        # Simulate an authentic sample\n",
    "        new_sample_ph = random.uniform(6.8, 7.2)\n",
    "        new_sample_gas = random.uniform(180, 200)\n",
    "        new_sample_conductivity = random.uniform(1180, 1260)\n",
    "        expected = \"Authentic\"\n",
    "    else:\n",
    "        # Simulate an adulterated sample\n",
    "        new_sample_ph = random.uniform(8.4, 8.9)\n",
    "        new_sample_gas = random.uniform(340, 370)\n",
    "        new_sample_conductivity = random.uniform(2450, 2700)\n",
    "        expected = \"Adulterated\"\n",
    "    \n",
    "    # Create a DataFrame for the new sample\n",
    "    new_sample = pd.DataFrame({\n",
    "        'pH': [new_sample_ph],\n",
    "        'gas_reading': [new_sample_gas],\n",
    "        'conductivity': [new_sample_conductivity]\n",
    "    })\n",
    "\n",
    "    # Load the pre-trained model and make a prediction\n",
    "    with open('svm_model.pkl', 'rb') as f:\n",
    "        loaded_model = pickle.load(f)\n",
    "    \n",
    "    prediction = loaded_model.predict(new_sample)\n",
    "    \n",
    "    return new_sample, prediction[0], expected\n",
    "\n",
    "# Example of how to use the function:\n",
    "new_data, predicted_label, expected_label = get_prediction()\n",
    "print(\"\\n--- Simulating a new sample ---\")\n",
    "print(f\"Sample data: pH={new_data['pH'].iloc[0]:.2f}, Gas={new_data['gas_reading'].iloc[0]:.2f}, Conductivity={new_data['conductivity'].iloc[0]:.2f}\")\n",
    "print(f\"AI Prediction: {predicted_label}\")\n",
    "print(f\"Expected Result: {expected_label}\")"
   ]
  },
  {
   "cell_type": "code",
   "execution_count": 2,
   "id": "f7b5431f",
   "metadata": {},
   "outputs": [
    {
     "name": "stdout",
     "output_type": "stream",
     "text": [
      "AI model has been saved as 'svm_model.pkl'\n"
     ]
    }
   ],
   "source": [
    "import pickle\n",
    "\n",
    "# The 'model' variable is your trained SVM model\n",
    "with open('svm_model.pkl', 'wb') as f:\n",
    "    pickle.dump(model, f)\n",
    "\n",
    "print(\"AI model has been saved as 'svm_model.pkl'\")"
   ]
  }
 ],
 "metadata": {
  "kernelspec": {
   "display_name": "Python 3",
   "language": "python",
   "name": "python3"
  },
  "language_info": {
   "codemirror_mode": {
    "name": "ipython",
    "version": 3
   },
   "file_extension": ".py",
   "mimetype": "text/x-python",
   "name": "python",
   "nbconvert_exporter": "python",
   "pygments_lexer": "ipython3",
   "version": "3.12.0"
  }
 },
 "nbformat": 4,
 "nbformat_minor": 5
}
